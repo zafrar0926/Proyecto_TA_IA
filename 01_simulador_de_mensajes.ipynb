{
 "cells": [
  {
   "cell_type": "code",
   "execution_count": 2,
   "id": "309fb534",
   "metadata": {},
   "outputs": [],
   "source": [
    "import pandas as pd\n",
    "import random\n",
    "import uuid\n",
    "from datetime import datetime\n",
    "import json\n",
    "import time\n",
    "import boto3  "
   ]
  },
  {
   "cell_type": "code",
   "execution_count": 3,
   "id": "9344d4ef",
   "metadata": {},
   "outputs": [
    {
     "name": "stdout",
     "output_type": "stream",
     "text": [
      "(131980, 9)\n"
     ]
    },
    {
     "data": {
      "text/html": [
       "<div>\n",
       "<style scoped>\n",
       "    .dataframe tbody tr th:only-of-type {\n",
       "        vertical-align: middle;\n",
       "    }\n",
       "\n",
       "    .dataframe tbody tr th {\n",
       "        vertical-align: top;\n",
       "    }\n",
       "\n",
       "    .dataframe thead th {\n",
       "        text-align: right;\n",
       "    }\n",
       "</style>\n",
       "<table border=\"1\" class=\"dataframe\">\n",
       "  <thead>\n",
       "    <tr style=\"text-align: right;\">\n",
       "      <th></th>\n",
       "      <th>Reviewer Name</th>\n",
       "      <th>Profile Link</th>\n",
       "      <th>Country</th>\n",
       "      <th>Review Count</th>\n",
       "      <th>Review Date</th>\n",
       "      <th>Rating</th>\n",
       "      <th>Review Title</th>\n",
       "      <th>Review Text</th>\n",
       "      <th>Date of Experience</th>\n",
       "    </tr>\n",
       "  </thead>\n",
       "  <tbody>\n",
       "    <tr>\n",
       "      <th>0</th>\n",
       "      <td>Champagne</td>\n",
       "      <td>/users/66c78240087b6269ffbcb5fb</td>\n",
       "      <td>US</td>\n",
       "      <td>1 review</td>\n",
       "      <td>2024-08-22T20:24:02.000Z</td>\n",
       "      <td>Rated 5 out of 5 stars</td>\n",
       "      <td>I love ordering from fashion nova</td>\n",
       "      <td>I love ordering from fashion nova. The clothes...</td>\n",
       "      <td>August 22, 2024</td>\n",
       "    </tr>\n",
       "    <tr>\n",
       "      <th>1</th>\n",
       "      <td>Vg customer</td>\n",
       "      <td>/users/6618fdb53d4198001210cbe7</td>\n",
       "      <td>VG</td>\n",
       "      <td>3 reviews</td>\n",
       "      <td>2024-08-21T05:43:11.000Z</td>\n",
       "      <td>Rated 5 out of 5 stars</td>\n",
       "      <td>Top tier content for fashion nova</td>\n",
       "      <td>Always amazing clothes and the fast shipping i...</td>\n",
       "      <td>August 18, 2024</td>\n",
       "    </tr>\n",
       "    <tr>\n",
       "      <th>2</th>\n",
       "      <td>Colleen Burgher</td>\n",
       "      <td>/users/64e9595206be1a001244ff73</td>\n",
       "      <td>US</td>\n",
       "      <td>3 reviews</td>\n",
       "      <td>2024-08-21T17:09:14.000Z</td>\n",
       "      <td>Rated 5 out of 5 stars</td>\n",
       "      <td>Prices and quality of products are…</td>\n",
       "      <td>Prices and quality of products are GREAT Would...</td>\n",
       "      <td>August 21, 2024</td>\n",
       "    </tr>\n",
       "    <tr>\n",
       "      <th>3</th>\n",
       "      <td>R.G.M</td>\n",
       "      <td>/users/66c58ad1c6ab36352a08f57a</td>\n",
       "      <td>US</td>\n",
       "      <td>1 review</td>\n",
       "      <td>2024-08-21T08:36:03.000Z</td>\n",
       "      <td>Rated 5 out of 5 stars</td>\n",
       "      <td>Great customer service</td>\n",
       "      <td>Great customer service. I was helped until the...</td>\n",
       "      <td>August 20, 2024</td>\n",
       "    </tr>\n",
       "    <tr>\n",
       "      <th>4</th>\n",
       "      <td>Rosalyn Cousar</td>\n",
       "      <td>/users/60ad4b6ef3788e001adbb8e3</td>\n",
       "      <td>US</td>\n",
       "      <td>5 reviews</td>\n",
       "      <td>2024-08-22T00:46:16.000Z</td>\n",
       "      <td>Rated 3 out of 5 stars</td>\n",
       "      <td>False advertising</td>\n",
       "      <td>Disappointing experience. You don’t live up to...</td>\n",
       "      <td>August 21, 2024</td>\n",
       "    </tr>\n",
       "  </tbody>\n",
       "</table>\n",
       "</div>"
      ],
      "text/plain": [
       "     Reviewer Name                     Profile Link Country Review Count  \\\n",
       "0        Champagne  /users/66c78240087b6269ffbcb5fb      US     1 review   \n",
       "1      Vg customer  /users/6618fdb53d4198001210cbe7      VG    3 reviews   \n",
       "2  Colleen Burgher  /users/64e9595206be1a001244ff73      US    3 reviews   \n",
       "3            R.G.M  /users/66c58ad1c6ab36352a08f57a      US     1 review   \n",
       "4   Rosalyn Cousar  /users/60ad4b6ef3788e001adbb8e3      US    5 reviews   \n",
       "\n",
       "                Review Date                  Rating  \\\n",
       "0  2024-08-22T20:24:02.000Z  Rated 5 out of 5 stars   \n",
       "1  2024-08-21T05:43:11.000Z  Rated 5 out of 5 stars   \n",
       "2  2024-08-21T17:09:14.000Z  Rated 5 out of 5 stars   \n",
       "3  2024-08-21T08:36:03.000Z  Rated 5 out of 5 stars   \n",
       "4  2024-08-22T00:46:16.000Z  Rated 3 out of 5 stars   \n",
       "\n",
       "                          Review Title  \\\n",
       "0    I love ordering from fashion nova   \n",
       "1   Top tier content for fashion nova    \n",
       "2  Prices and quality of products are…   \n",
       "3               Great customer service   \n",
       "4                    False advertising   \n",
       "\n",
       "                                         Review Text Date of Experience  \n",
       "0  I love ordering from fashion nova. The clothes...    August 22, 2024  \n",
       "1  Always amazing clothes and the fast shipping i...    August 18, 2024  \n",
       "2  Prices and quality of products are GREAT Would...    August 21, 2024  \n",
       "3  Great customer service. I was helped until the...    August 20, 2024  \n",
       "4  Disappointing experience. You don’t live up to...    August 21, 2024  "
      ]
     },
     "execution_count": 3,
     "metadata": {},
     "output_type": "execute_result"
    }
   ],
   "source": [
    "# Cargar el dataset\n",
    "df = pd.read_csv(\"fashionnova_reviews.csv\")\n",
    "print(df.shape)\n",
    "df.head()\n"
   ]
  },
  {
   "cell_type": "code",
   "execution_count": 4,
   "id": "28374d04",
   "metadata": {},
   "outputs": [
    {
     "data": {
      "text/plain": [
       "(131980, 10)"
      ]
     },
     "execution_count": 4,
     "metadata": {},
     "output_type": "execute_result"
    }
   ],
   "source": [
    "# Convertir rating de texto a número entero\n",
    "def procesar_rating(rating_str):\n",
    "    try:\n",
    "        return int(rating_str.split()[1])\n",
    "    except:\n",
    "        return None\n",
    "\n",
    "df[\"rating_num\"] = df[\"Rating\"].apply(procesar_rating)\n",
    "\n",
    "# Filtrar registros útiles\n",
    "df = df[df[\"Review Text\"].notna()]\n",
    "df = df[df[\"rating_num\"].notna()]\n",
    "\n",
    "df.shape"
   ]
  },
  {
   "cell_type": "code",
   "execution_count": 5,
   "id": "4bd1490f",
   "metadata": {},
   "outputs": [],
   "source": [
    "# Canales simulados\n",
    "canales = [\"web\", \"movil\", \"call_center\", \"redes_sociales\"]\n",
    "\n",
    "# Función para limpiar valores no serializables\n",
    "def safe_str(x):\n",
    "    return str(x) if pd.notnull(x) else \"\"\n",
    "\n",
    "def generar_mensaje():\n",
    "    fila = df.sample(1).iloc[0]\n",
    "    return {\n",
    "        \"id\": str(uuid.uuid4()),\n",
    "        \"canal\": random.choice(canales),\n",
    "        \"fecha\": safe_str(fila[\"Review Date\"]),\n",
    "        \"revisor\": safe_str(fila[\"Reviewer Name\"]),\n",
    "        \"pais\": safe_str(fila[\"Country\"]),\n",
    "        \"rating\": int(fila[\"rating_num\"]),\n",
    "        \"titulo\": safe_str(fila[\"Review Title\"]),\n",
    "        \"texto\": safe_str(fila[\"Review Text\"])\n",
    "    }"
   ]
  },
  {
   "cell_type": "code",
   "execution_count": 6,
   "id": "1ead2c18",
   "metadata": {},
   "outputs": [
    {
     "name": "stdout",
     "output_type": "stream",
     "text": [
      "Respuesta Lambda: {\"statusCode\": 200, \"body\": \"{\\\"sentimiento\\\": \\\"NEGATIVE\\\"}\"}\n",
      "Respuesta Lambda: {\"statusCode\": 200, \"body\": \"{\\\"sentimiento\\\": \\\"POSITIVE\\\"}\"}\n",
      "Respuesta Lambda: {\"statusCode\": 200, \"body\": \"{\\\"sentimiento\\\": \\\"POSITIVE\\\"}\"}\n",
      "Respuesta Lambda: {\"statusCode\": 200, \"body\": \"{\\\"sentimiento\\\": \\\"NEGATIVE\\\"}\"}\n",
      "Respuesta Lambda: {\"statusCode\": 200, \"body\": \"{\\\"sentimiento\\\": \\\"MIXED\\\"}\"}\n"
     ]
    }
   ],
   "source": [
    "lambda_client = boto3.client(\"lambda\", region_name=\"us-east-1\")\n",
    "\n",
    "# Simular y mostrar mensajes\n",
    "for _ in range(5):\n",
    "    mensaje = generar_mensaje()\n",
    "    \n",
    "    # Solo se envía lo necesario a Lambda (texto y canal)\n",
    "    payload = {\n",
    "        \"texto\": mensaje[\"texto\"],\n",
    "        \"canal\": mensaje[\"canal\"]\n",
    "    }\n",
    "\n",
    "    respuesta = lambda_client.invoke(\n",
    "        FunctionName='AnalizarSentimiento',\n",
    "        InvocationType='RequestResponse',\n",
    "        Payload=json.dumps(payload).encode('utf-8')\n",
    "    )\n",
    "\n",
    "    print(\"Respuesta Lambda:\", respuesta['Payload'].read().decode('utf-8'))\n",
    "    time.sleep(1)"
   ]
  },
  {
   "cell_type": "code",
   "execution_count": null,
   "id": "9f8083fb",
   "metadata": {},
   "outputs": [],
   "source": []
  }
 ],
 "metadata": {
  "kernelspec": {
   "display_name": "venv",
   "language": "python",
   "name": "python3"
  },
  "language_info": {
   "codemirror_mode": {
    "name": "ipython",
    "version": 3
   },
   "file_extension": ".py",
   "mimetype": "text/x-python",
   "name": "python",
   "nbconvert_exporter": "python",
   "pygments_lexer": "ipython3",
   "version": "3.12.3"
  }
 },
 "nbformat": 4,
 "nbformat_minor": 5
}
